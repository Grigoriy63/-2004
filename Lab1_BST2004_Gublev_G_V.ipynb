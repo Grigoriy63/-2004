{
 "cells": [
  {
   "cell_type": "markdown",
   "id": "f86e8717",
   "metadata": {},
   "source": [
    "# Лабораторная работа №1\n",
    "\n",
    "# Выполнил студент группы БСТ2004 Гублев Г.В.\n"
   ]
  },
  {
   "cell_type": "markdown",
   "id": "37581c31",
   "metadata": {},
   "source": [
    "# Задание №1\n",
    "1.Создать Jupyter Notebook со следующим наименованием: Lab1_Группа_ФИО\n",
    "2.Создать новую ячейку с помощью кнопки\n",
    "3.В созданной ячейке по указанной ниже форме заполните оглавление файла,\n",
    "заменив наименование группы и вписав свое ФИО, после чего создайте еще одну ячейку и напишите следующий код: print(\"Hello, World!)\n",
    "4.С помощью кнопки запустите выполнение всех ячеек."
   ]
  },
  {
   "cell_type": "code",
   "execution_count": 50,
   "id": "d4c812d0",
   "metadata": {},
   "outputs": [
    {
     "name": "stdout",
     "output_type": "stream",
     "text": [
      "Hello, World!\n"
     ]
    }
   ],
   "source": [
    "print(\"Hello, World!\")"
   ]
  },
  {
   "cell_type": "markdown",
   "id": "aedcd87e",
   "metadata": {},
   "source": [
    "# Задание №2\n",
    "Написать генератор случайных матриц(многомерных), который принимает\n",
    "опциональные параметры m, n, min_limit, max_limit, где m и n указывают размер\n",
    "матрицы, а min_lim и max_lim - минимальное и максимальное значение для\n",
    "генерируемого числа.\n",
    "min_limit =-250\n",
    "max_limit=1003\n"
   ]
  },
  {
   "cell_type": "code",
   "execution_count": 51,
   "id": "9775572e",
   "metadata": {},
   "outputs": [
    {
     "data": {
      "text/plain": [
       "[[46, 403, 122, 728, 139],\n",
       " [525, 455, 870, 504, 284],\n",
       " [81, 7, 515, 422, 366],\n",
       " [708, 855, 923, 465, 157],\n",
       " [981, 548, 85, 708, 174]]"
      ]
     },
     "execution_count": 51,
     "metadata": {},
     "output_type": "execute_result"
    }
   ],
   "source": [
    "#генерация двумерного массива\n",
    "m,n=5,5\n",
    "import random\n",
    "def create_mas(m, n):\n",
    "    arr2d=[]\n",
    "    for i in range(m):\n",
    "        irr=[]\n",
    "        for j in range(n):\n",
    "            irr.append(random.randint(-25,1003))\n",
    "        arr2d.append(irr)\n",
    "    return (arr2d)\n",
    "mas=create_mas(m, n)\n",
    "create_mas(m, n)\n"
   ]
  },
  {
   "cell_type": "markdown",
   "id": "f766299d",
   "metadata": {},
   "source": [
    "# Задание №3\n",
    "Реализовать методы сортировки строк числовой матрицы в соответствии с\n",
    "заданием. Оценить время работы каждого алгоритма сортировки и сравнить его со\n",
    "временем стандартной функции сортировки. Испытания проводить на сгенерированных\n",
    "матрицах.\n",
    "Методы:\n",
    "-Выбором\n",
    "-Вставкой\n",
    "-Обменом\n",
    "-Шелла\n",
    "-Турнирная\n",
    "-Быстрая сортировка\n",
    "-Пирамидальная"
   ]
  },
  {
   "cell_type": "code",
   "execution_count": 52,
   "id": "e8d5296e",
   "metadata": {},
   "outputs": [
    {
     "data": {
      "text/plain": [
       "[[12, 145, 506, 523, 824],\n",
       " [174, 492, 772, 775, 894],\n",
       " [210, 285, 316, 716, 898],\n",
       " [261, 270, 519, 535, 763],\n",
       " [293, 306, 518, 587, 774]]"
      ]
     },
     "execution_count": 52,
     "metadata": {},
     "output_type": "execute_result"
    }
   ],
   "source": [
    "#сортировка выбором\n",
    "mas=create_mas(m, n)\n",
    "def selection_sort(mas):        \n",
    "    for i in range(len(mas)):\n",
    "        minimum = i\n",
    "        \n",
    "        for j in range(i + 1, len(mas)):\n",
    "            if mas[j] < mas[minimum]:\n",
    "                minimum = j\n",
    "\n",
    "        mas[minimum], mas[i] = mas[i], mas[minimum]\n",
    "            \n",
    "    return mas\n",
    "for row in range(len(mas)):\n",
    "     selection_sort(mas[row]) \n",
    "\n",
    "selection_sort(mas)\n"
   ]
  },
  {
   "cell_type": "code",
   "execution_count": null,
   "id": "57a6afb2",
   "metadata": {},
   "outputs": [],
   "source": [
    "#сортировка вставкой\n",
    "mas=create_mas(m, n)\n",
    "def insertion_sort(mas):\n",
    "        \n",
    "    for i in range(len(mas)):\n",
    "        cursor = mas[i]\n",
    "        pos = i\n",
    "        \n",
    "        while pos > 0 and mas[pos - 1] > cursor:\n",
    "            \n",
    "            mas[pos] = mas[pos - 1]\n",
    "            pos = pos - 1\n",
    "    \n",
    "        mas[pos] = cursor\n",
    "\n",
    "    return mas\n",
    "for row in range(len(mas)):\n",
    "     selection_sort(mas[row]) \n",
    "\n",
    "\n",
    "\n",
    "insertion_sort(mas)\n",
    "\n"
   ]
  },
  {
   "cell_type": "code",
   "execution_count": 53,
   "id": "7e01f1c7",
   "metadata": {},
   "outputs": [
    {
     "data": {
      "text/plain": [
       "[[-10, 72, 611, 627, 868],\n",
       " [8, 86, 249, 629, 699],\n",
       " [95, 167, 424, 611, 659],\n",
       " [166, 184, 254, 549, 602],\n",
       " [629, 699, 712, 838, 970]]"
      ]
     },
     "execution_count": 53,
     "metadata": {},
     "output_type": "execute_result"
    }
   ],
   "source": [
    "#сортировка обменом\n",
    "mas=create_mas(m, n)\n",
    "def bubble(mas):\n",
    "    changed = True\n",
    "    while changed:\n",
    "        changed = False\n",
    "        for i in range(len(mas) - 1):\n",
    "            if mas[i] > mas[i+1]:\n",
    "                mas[i], mas[i+1] = mas[i+1], mas[i]\n",
    "                changed = True\n",
    "    return mas\n",
    "for row in range(len(mas)):\n",
    "     bubble(mas[row]) \n",
    "bubble(mas)                      "
   ]
  },
  {
   "cell_type": "code",
   "execution_count": 54,
   "id": "2a6bdb92",
   "metadata": {},
   "outputs": [
    {
     "data": {
      "text/plain": [
       "[[55, 245, 433, 614, 997],\n",
       " [105, 163, 178, 342, 474],\n",
       " [125, 302, 313, 616, 742],\n",
       " [210, 286, 617, 848, 862],\n",
       " [241, 544, 563, 811, 834]]"
      ]
     },
     "execution_count": 54,
     "metadata": {},
     "output_type": "execute_result"
    }
   ],
   "source": [
    "#сортировка Шелла\n",
    "mas=create_mas(m, n)\n",
    "def shell_sort(mas):\n",
    "    gap = len(mas) // 2\n",
    "\n",
    "    while gap > 0:\n",
    "        for value in range(gap, len(mas)):\n",
    "            current_value = mas[value]\n",
    "            position = value\n",
    "\n",
    "            while position >= gap and mas[position - gap] > current_value:\n",
    "                mas[position] = mas[position - gap]\n",
    "                position -= gap\n",
    "                mas[position] = current_value\n",
    "\n",
    "        gap //= 2\n",
    "    return mas\n",
    "for row in range(len(mas)):\n",
    "     shell_sort(mas[row])\n",
    "shell_sort(mas)"
   ]
  },
  {
   "cell_type": "code",
   "execution_count": 14,
   "id": "f1c6f8e3",
   "metadata": {},
   "outputs": [
    {
     "data": {
      "text/plain": [
       "[[9, 41, 58, 78, 370],\n",
       " [43, 47, 243, 286, 904],\n",
       " [66, 414, 748, 949, 1003],\n",
       " [311, 412, 752, 824, 951],\n",
       " [414, 547, 613, 777, 871]]"
      ]
     },
     "execution_count": 14,
     "metadata": {},
     "output_type": "execute_result"
    }
   ],
   "source": [
    "#быстаря сортировка\n",
    "mas=create_mas(m, n)\n",
    "def quick_sort(mas):\n",
    "    quick_sort_helper(mas, 0, len(mas) - 1)\n",
    "    return mas\n",
    "\n",
    "\n",
    "def quick_sort_helper(mas, low, high):\n",
    "    if low < high:\n",
    "        split_point = partition(mas, low, high)\n",
    "        quick_sort_helper(mas, low, split_point - 1)\n",
    "        quick_sort_helper(mas, split_point + 1, high)\n",
    "\n",
    "\n",
    "def partition(mas, low, high):\n",
    "    pivot_value = mas[low]\n",
    "    left_mark = low + 1\n",
    "    right_mark = high\n",
    "    done = False\n",
    "\n",
    "    while not done:\n",
    "        while left_mark <= right_mark and mas[left_mark] <= pivot_value:\n",
    "            left_mark += 1\n",
    "        while right_mark >= left_mark and mas[right_mark] >= pivot_value:\n",
    "            right_mark -= 1\n",
    "\n",
    "        if right_mark < left_mark:\n",
    "            done = True\n",
    "        else:\n",
    "            mas[left_mark], mas[right_mark] = mas[right_mark], mas[left_mark]\n",
    "\n",
    "    mas[low], mas[right_mark] = mas[right_mark], mas[low]\n",
    "    return right_mark\n",
    "for row in range(len(mas)):\n",
    "     quick_sort(mas[row])\n",
    "quick_sort(mas)   "
   ]
  },
  {
   "cell_type": "code",
   "execution_count": 55,
   "id": "31960072",
   "metadata": {},
   "outputs": [
    {
     "data": {
      "text/plain": [
       "[[56, 90, 316, 869, 894],\n",
       " [120, 255, 450, 487, 487],\n",
       " [306, 360, 443, 824, 844],\n",
       " [307, 445, 480, 723, 782],\n",
       " [471, 592, 731, 833, 861]]"
      ]
     },
     "execution_count": 55,
     "metadata": {},
     "output_type": "execute_result"
    }
   ],
   "source": [
    "#спирамидальная сортировка\n",
    "mas=create_mas(m, n)\n",
    "def heap(mas, heap_size, root_index):\n",
    "    largest = root_index\n",
    "    left_child = (2 * root_index) + 1\n",
    "    right_child = (2 * root_index) + 2\n",
    "    if left_child < heap_size and mas[left_child] > mas[largest]:\n",
    "        largest = left_child\n",
    "    if right_child < heap_size and mas[right_child] > mas[largest]:\n",
    "        largest = right_child\n",
    "    if largest != root_index:\n",
    "        mas[root_index], mas[largest] = mas[largest], mas[root_index]\n",
    "        heap(mas, heap_size, largest)\n",
    "def pyr_sort(mas):\n",
    "    n = len(mas)\n",
    "    for i in range(n, -1, -1):\n",
    "        heap(mas, n, i)\n",
    "    for i in range(n - 1, 0, -1):\n",
    "        mas[i], mas[0] = mas[0], mas[i]\n",
    "        heap(mas, i, 0)\n",
    "    return mas\n",
    "for row in range(len(mas)):\n",
    "     pyr_sort(mas[row])\n",
    "pyr_sort(mas) \n"
   ]
  },
  {
   "cell_type": "code",
   "execution_count": 56,
   "id": "f1a3c54e",
   "metadata": {},
   "outputs": [
    {
     "name": "stdout",
     "output_type": "stream",
     "text": [
      "Сортировка выбором: 0.00011760000006688642 секунд\n",
      "Сортировка вставкой: 4.7699999868200393e-05 секунд\n",
      "Сортировка обменом: 4.5199999931355705e-05 секунд\n",
      "Сортировка Шелла: 4.690000014306861e-05 секунд\n",
      "Быстрая сортировка: 4.94000000799133e-05 секунд\n",
      "Пирамидальная сортировка: 5.2400000186025864e-05 секунд\n",
      "Встроенная сортировка: 3.220000007786439e-05 секунд\n"
     ]
    }
   ],
   "source": [
    "#сравнение по времени алгритмов сортировки\n",
    "array=create_mas(m, n)\n",
    "\n",
    "import timeit\n",
    "star = timeit.default_timer()\n",
    "mas=array\n",
    "selection_sort(mas)\n",
    "endtime = timeit.default_timer()\n",
    "print(\"Сортировка выбором:\", end - start, \"секунд\")\n",
    "\n",
    "start = timeit.default_timer()\n",
    "mas=array\n",
    "insertion_sort(mas)\n",
    "end = timeit.default_timer()\n",
    "print(\"Сортировка вставкой:\", end - start, \"секунд\")\n",
    "\n",
    "start = timeit.default_timer()\n",
    "mas=array\n",
    "bubble(mas)\n",
    "end = timeit.default_timer()\n",
    "print(\"Сортировка обменом:\", end - start, \"секунд\")\n",
    "\n",
    "start = timeit.default_timer()\n",
    "mas=array\n",
    "shell_sort(mas)\n",
    "end = timeit.default_timer()\n",
    "print(\"Сортировка Шелла:\", end - start, \"секунд\")\n",
    "\n",
    "start = timeit.default_timer()\n",
    "mas=array\n",
    "quick_sort(mas)\n",
    "end = timeit.default_timer()\n",
    "print(\"Быстрая сортировка:\", end - start, \"секунд\")\n",
    "\n",
    "start = timeit.default_timer()\n",
    "mas=array\n",
    "pyr_sort(mas) \n",
    "end = timeit.default_timer()\n",
    "print(\"Пирамидальная сортировка:\", end - start, \"секунд\")\n",
    "\n",
    "start = timeit.default_timer()\n",
    "for row in range(len(mas)):\n",
    "    mas[row].sort()\n",
    "    end = timeit.default_timer()\n",
    "print(\"Встроенная сортировка:\", end - start, \"секунд\")"
   ]
  },
  {
   "cell_type": "code",
   "execution_count": 39,
   "id": "ed310509",
   "metadata": {},
   "outputs": [
    {
     "name": "stdout",
     "output_type": "stream",
     "text": [
      "[235, 267, 313, 368, 587]\n",
      "[27, 213, 222, 235, 259]\n",
      "[7, 87, 686, 784, 835]\n",
      "[104, 143, 445, 510, 967]\n",
      "[320, 644, 721, 936, 996]\n"
     ]
    }
   ],
   "source": [
    "#сортировка выбором\n",
    "mas=create_mas(m, n)\n",
    "for row in range(len(mas)):\n",
    "    mas[row].sort()\n",
    "    print(mas[row])"
   ]
  },
  {
   "cell_type": "markdown",
   "id": "a17da0e0",
   "metadata": {},
   "source": [
    "# Задание №4\n",
    "Создать публичный репозиторий на github, и запушить выполненное задание в\n",
    ".ipynb формате.\n",
    "\n",
    "Ссылка на репозиторий\n",
    "https://github.com/Grigoriy63/SAOD"
   ]
  }
 ],
 "metadata": {
  "kernelspec": {
   "display_name": "Python 3 (ipykernel)",
   "language": "python",
   "name": "python3"
  },
  "language_info": {
   "codemirror_mode": {
    "name": "ipython",
    "version": 3
   },
   "file_extension": ".py",
   "mimetype": "text/x-python",
   "name": "python",
   "nbconvert_exporter": "python",
   "pygments_lexer": "ipython3",
   "version": "3.9.7"
  }
 },
 "nbformat": 4,
 "nbformat_minor": 5
}
